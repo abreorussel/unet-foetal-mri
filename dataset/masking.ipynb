{
 "cells": [
  {
   "cell_type": "code",
   "execution_count": 47,
   "id": "ec19cd9e",
   "metadata": {},
   "outputs": [],
   "source": [
    "import os\n",
    "import cv2\n",
    "import xml.etree.ElementTree as ET\n",
    "import numpy as np\n",
    "import matplotlib.pyplot as plt\n",
    "%matplotlib inline"
   ]
  },
  {
   "cell_type": "code",
   "execution_count": 87,
   "id": "ad4bb27a",
   "metadata": {},
   "outputs": [],
   "source": [
    "ANNOTATIONS_PATH = 'annotations/annotations.xml'\n",
    "IMAGE_FOLDER_PATH = \"Fetus/\"\n",
    "GT_FOLDER_PATH = \"Fetus_GT_Russel/\"\n",
    "\n",
    "try:\n",
    "    os.makedirs(GT_FOLDER_PATH)\n",
    "except:\n",
    "    pass"
   ]
  },
  {
   "cell_type": "code",
   "execution_count": 88,
   "id": "f1620b7f",
   "metadata": {},
   "outputs": [],
   "source": [
    "tree = ET.parse(ANNOTATIONS_PATH)\n",
    "root = tree.getroot()"
   ]
  },
  {
   "cell_type": "code",
   "execution_count": 89,
   "id": "708b1d16",
   "metadata": {},
   "outputs": [
    {
     "data": {
      "text/plain": [
       "'annotations'"
      ]
     },
     "execution_count": 89,
     "metadata": {},
     "output_type": "execute_result"
    }
   ],
   "source": [
    "root.tag"
   ]
  },
  {
   "cell_type": "code",
   "execution_count": 90,
   "id": "2cac5fc5",
   "metadata": {},
   "outputs": [
    {
     "data": {
      "text/plain": [
       "{}"
      ]
     },
     "execution_count": 90,
     "metadata": {},
     "output_type": "execute_result"
    }
   ],
   "source": [
    "root.attrib"
   ]
  },
  {
   "cell_type": "code",
   "execution_count": 91,
   "id": "9491eab9",
   "metadata": {},
   "outputs": [],
   "source": [
    "for child in root:\n",
    "    if len(child.attrib) > 0:\n",
    "        img_name = child.attrib['name']\n",
    "#         print(child.attrib)\n",
    "        img_path = IMAGE_FOLDER_PATH+img_name\n",
    "        img = cv2.imread(img_path , cv2.IMREAD_GRAYSCALE)\n",
    "        mask = np.zeros(img.shape , dtype = np.uint8)\n",
    "    \n",
    "        for childs_child in child: \n",
    "            if len(childs_child.attrib) > 0:\n",
    "    #             print(childs_child.attrib)\n",
    "                points = childs_child.attrib['points']\n",
    "                points = points.split(';')\n",
    "                points = [point.split(',') for point in points] \n",
    "                points = [[int(float(point[0])), int(float(point[1]))] for point in points]\n",
    "                points = np.array(points, dtype=np.int32)\n",
    "                cv2.fillPoly(mask, [points], 255)\n",
    "                gt_mask = mask.copy()\n",
    "                gt_mask = np.array(gt_mask, np.uint8)\n",
    "                contours, _ = cv2.findContours(gt_mask, cv2.RETR_EXTERNAL, cv2.CHAIN_APPROX_SIMPLE)\n",
    "                convex_hulls = []\n",
    "                for contour in contours:\n",
    "                    convex_hull = cv2.convexHull(contour)\n",
    "                    convex_hulls.append(convex_hull)\n",
    "                cv2.drawContours(gt_mask, convex_hulls, -1, 1, 1)\n",
    "#                 plt.imshow(img)\n",
    "#                 plt.show()\n",
    "                mask_name = GT_FOLDER_PATH+str(img_name.split('.')[0])+\".png\"\n",
    "                cv2.imwrite(mask_name, gt_mask)\n",
    "                break\n",
    "        break"
   ]
  },
  {
   "cell_type": "code",
   "execution_count": null,
   "id": "a7137682",
   "metadata": {},
   "outputs": [],
   "source": []
  }
 ],
 "metadata": {
  "kernelspec": {
   "display_name": "pytorch_practice",
   "language": "python",
   "name": "pytorch_practice"
  },
  "language_info": {
   "codemirror_mode": {
    "name": "ipython",
    "version": 3
   },
   "file_extension": ".py",
   "mimetype": "text/x-python",
   "name": "python",
   "nbconvert_exporter": "python",
   "pygments_lexer": "ipython3",
   "version": "3.12.4"
  }
 },
 "nbformat": 4,
 "nbformat_minor": 5
}
